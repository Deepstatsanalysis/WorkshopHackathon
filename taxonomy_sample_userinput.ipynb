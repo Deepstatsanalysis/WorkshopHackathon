{
 "cells": [
  {
   "cell_type": "code",
   "execution_count": 21,
   "metadata": {},
   "outputs": [
    {
     "name": "stdout",
     "output_type": "stream",
     "text": [
      "Enter FASTA file name : /home/alexandreefremovnih/taxonomy/sample.fasta\n"
     ]
    }
   ],
   "source": [
    "import pandas as pd\n",
    "fasta = input(\"Enter FASTA file name : \")"
   ]
  },
  {
   "cell_type": "code",
   "execution_count": 22,
   "metadata": {},
   "outputs": [
    {
     "name": "stdout",
     "output_type": "stream",
     "text": [
      "Enter comma-separated list of taxIDs for analysis : 2,1224,1239,28216,80840,97139,186801,186802,186803,186928,397287,397288,397290,397291,879566,1122155,1235790,1235793,1235800,1506553,1783272,1927127,2023184\n"
     ]
    }
   ],
   "source": [
    "taxlistcs = input(\"Enter comma-separated list of taxIDs for analysis : \")\n",
    "taxlist = taxlistcs.split(',')\n",
    "with open('sample.taxlist', 'w') as tlf:\n",
    "    for taxid in taxlist:\n",
    "        tlf.write(\"%s\\n\" % taxid)"
   ]
  },
  {
   "cell_type": "code",
   "execution_count": 23,
   "metadata": {},
   "outputs": [
    {
     "name": "stdout",
     "output_type": "stream",
     "text": [
      "2019-04-24 15:10:17\taligns_to version 0.55\n",
      "2019-04-24 15:10:17\thardware threads: 6, omp threads: 6\n",
      "2019-04-24 15:10:18\tdbss parts loaded (18m kmers)\n",
      "2019-04-24 15:10:19\tdbss parts merged\n",
      "2019-04-24 15:10:19\tloading time (sec) 2\n",
      "2019-04-24 15:10:19\tkmers 18505030 (18m)\n",
      "2019-04-24 15:10:19\t/home/alexandreefremovnih/taxonomy/sample.fasta\n",
      "2019-04-24 15:10:19\tcreating lookup table with 4194304 buckets, on average 4.41194 hashes per bucket\n",
      "2019-04-24 15:10:19\t100% processed\n",
      "2019-04-24 15:10:21\ttotal spot count: 1024\n",
      "2019-04-24 15:10:21\ttotal read count: 1024\n",
      "2019-04-24 15:10:21\ttotal time (sec) 4\n",
      "sample.taxlist - decoding scientific names\n",
      "/home/alexandreefremovnih/taxonomy/sample.fasta - flatten, extend, clean, name taxids for contigs\n"
     ]
    }
   ],
   "source": [
    "!/opt/taxonomy/taxonomize.sh {fasta} sample.taxlist"
   ]
  },
  {
   "cell_type": "code",
   "execution_count": 24,
   "metadata": {},
   "outputs": [
    {
     "name": "stdout",
     "output_type": "stream",
     "text": [
      "                    name    taxid  hits                 scientific_name\n",
      "0     Contig_907_3.86985        2    35                        Bacteria\n",
      "1     Contig_907_3.86985   397287    35  Lachnospiraceae bacterium 28-4\n",
      "2     Contig_907_3.86985   186928     6    unclassified Lachnospiraceae\n",
      "3     Contig_907_3.86985   186802     1                   Clostridiales\n",
      "4     Contig_907_3.86985   186803     4                 Lachnospiraceae\n",
      "5     Contig_907_3.86985     1239     1                      Firmicutes\n",
      "6     Contig_748_1.22147   397287    11  Lachnospiraceae bacterium 28-4\n",
      "7     Contig_844_14.0989   397287     2  Lachnospiraceae bacterium 28-4\n",
      "8     Contig_701_11.8636   186802     1                   Clostridiales\n",
      "9     Contig_701_11.8636    97139     1          Clostridium sp. ASF502\n",
      "10    Contig_701_11.8636   186803     2                 Lachnospiraceae\n",
      "11    Contig_701_11.8636   397287     8  Lachnospiraceae bacterium 28-4\n",
      "12    Contig_418_3.64445   186928     1    unclassified Lachnospiraceae\n",
      "13    Contig_418_3.64445   397287    50  Lachnospiraceae bacterium 28-4\n",
      "14    Contig_159_16.7004        2     6                        Bacteria\n",
      "15    Contig_226_2.48176        2     3                        Bacteria\n",
      "16    Contig_226_2.48176   397287    41  Lachnospiraceae bacterium 28-4\n",
      "17    Contig_305_1.31611   186928     1    unclassified Lachnospiraceae\n",
      "18    Contig_305_1.31611        2     2                        Bacteria\n",
      "19    Contig_305_1.31611   186802     2                   Clostridiales\n",
      "20    Contig_305_1.31611   397287   174  Lachnospiraceae bacterium 28-4\n",
      "21    Contig_553_1.20154   186928    11    unclassified Lachnospiraceae\n",
      "22    Contig_553_1.20154        2     4                        Bacteria\n",
      "23    Contig_553_1.20154   186802     2                   Clostridiales\n",
      "24    Contig_553_1.20154   397287   105  Lachnospiraceae bacterium 28-4\n",
      "25    Contig_194_13.2247   186928     1    unclassified Lachnospiraceae\n",
      "26    Contig_194_13.2247   186802     2                   Clostridiales\n",
      "27    Contig_194_13.2247   397287    34  Lachnospiraceae bacterium 28-4\n",
      "28    Contig_868_61.9259        2     3                        Bacteria\n",
      "29    Contig_868_61.9259   397287     8  Lachnospiraceae bacterium 28-4\n",
      "...                  ...      ...   ...                             ...\n",
      "1276  Contig_792_2.20658   186802     1                   Clostridiales\n",
      "1277  Contig_792_2.20658   397287   199  Lachnospiraceae bacterium 28-4\n",
      "1278  Contig_382_2.85282        2     1                        Bacteria\n",
      "1279  Contig_382_2.85282   397287   137  Lachnospiraceae bacterium 28-4\n",
      "1280  Contig_634_2.34173        2     1                        Bacteria\n",
      "1281  Contig_634_2.34173   186802     1                   Clostridiales\n",
      "1282  Contig_634_2.34173   397287   375  Lachnospiraceae bacterium 28-4\n",
      "1283  Contig_607_2.49849   397287    96  Lachnospiraceae bacterium 28-4\n",
      "1284  Contig_890_1.53587   186802     1                   Clostridiales\n",
      "1285  Contig_890_1.53587   397287   160  Lachnospiraceae bacterium 28-4\n",
      "1286   Contig_39_41.2602     1224     2                  Proteobacteria\n",
      "1287   Contig_39_41.2602    80840    25                 Burkholderiales\n",
      "1288   Contig_39_41.2602        2     5                        Bacteria\n",
      "1289   Contig_25_10.2817   186928     2    unclassified Lachnospiraceae\n",
      "1290   Contig_25_10.2817  1235793     5  Lachnospiraceae bacterium COE1\n",
      "1291   Contig_25_10.2817        2     1                        Bacteria\n",
      "1292  Contig_561_6.91537   397287    50  Lachnospiraceae bacterium 28-4\n",
      "1293  Contig_561_6.91537        2     7                        Bacteria\n",
      "1294  Contig_561_6.91537   186803     7                 Lachnospiraceae\n",
      "1295  Contig_561_6.91537   186802     6                   Clostridiales\n",
      "1296  Contig_561_6.91537     1239     3                      Firmicutes\n",
      "1297  Contig_245_10.8523   186928     1    unclassified Lachnospiraceae\n",
      "1298  Contig_245_10.8523        2    17                        Bacteria\n",
      "1299  Contig_245_10.8523   186803     1                 Lachnospiraceae\n",
      "1300  Contig_245_10.8523   397287    44  Lachnospiraceae bacterium 28-4\n",
      "1301  Contig_609_32.9983    80840     1                 Burkholderiales\n",
      "1302  Contig_609_32.9983        2     1                        Bacteria\n",
      "1303  Contig_566_2.40638   397287    71  Lachnospiraceae bacterium 28-4\n",
      "1304  Contig_845_17.8556  1783272     4             Terrabacteria group\n",
      "1305  Contig_845_17.8556        2     3                        Bacteria\n",
      "\n",
      "[1306 rows x 4 columns]\n"
     ]
    }
   ],
   "source": [
    "tax_results = pd.read_csv(fasta + '.taxonomy.tsv','\\t',header=0)\n",
    "print(tax_results)"
   ]
  },
  {
   "cell_type": "code",
   "execution_count": null,
   "metadata": {},
   "outputs": [],
   "source": []
  }
 ],
 "metadata": {
  "kernelspec": {
   "display_name": "Python 3",
   "language": "python",
   "name": "python3"
  },
  "language_info": {
   "codemirror_mode": {
    "name": "ipython",
    "version": 3
   },
   "file_extension": ".py",
   "mimetype": "text/x-python",
   "name": "python",
   "nbconvert_exporter": "python",
   "pygments_lexer": "ipython3",
   "version": "3.5.3"
  }
 },
 "nbformat": 4,
 "nbformat_minor": 2
}

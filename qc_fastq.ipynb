{
 "cells": [
  {
   "cell_type": "markdown",
   "metadata": {},
   "source": [
    "# QC of FASTQ runs\n",
    "\n",
    "This Jupyter notebook allows you to perform some basic quality control analysis of reads for a given SRA accession. Quality checks are computed by the program [FastQC](https://www.bioinformatics.babraham.ac.uk/projects/fastqc/) and the output data is parsed by python functions in this notebook. "
   ]
  },
  {
   "cell_type": "markdown",
   "metadata": {},
   "source": [
    "## 0. Setting up\n",
    "We will check for dependencies during this step and ensure that all necessary applications are installed and in place. "
   ]
  },
  {
   "cell_type": "code",
   "execution_count": 1,
   "metadata": {},
   "outputs": [],
   "source": [
    "from qc_functions import *\n",
    "from IPython.display import display, Markdown"
   ]
  },
  {
   "cell_type": "code",
   "execution_count": 2,
   "metadata": {},
   "outputs": [],
   "source": [
    "%%bash\n",
    "## check if java is installed\n",
    "java --version > /dev/null\n",
    "if [ $? -ne 0 ]; then\n",
    "    echo \"Java is missing. Please install Java to proceed.\"\n",
    "fi\n",
    "\n",
    "unzip -hh > /dev/null\n",
    "if [ $? -ne 0 ]; then\n",
    "    echo \"unzip is missing. Please install unzip to proceed.\"\n",
    "fi"
   ]
  },
  {
   "cell_type": "code",
   "execution_count": 3,
   "metadata": {},
   "outputs": [],
   "source": [
    "%%bash\n",
    "## Download and install fastqc\n",
    "if [ ! -f ./FastQC/fastqc ]; then\n",
    "    wget -q https://www.bioinformatics.babraham.ac.uk/projects/fastqc/fastqc_v0.11.8.zip\n",
    "    unzip -q fastqc_v*.zip\n",
    "    chmod a+x ./FastQC/fastqc\n",
    "    rm fastqc_v*.zip\n",
    "fi\n",
    "\n",
    "## Download and install sra-toolkit\n",
    "if [ ! -f ./sratoolkit.*-ubuntu64/bin/fastq-dump ]; then\n",
    "    wget -q https://ftp-trace.ncbi.nlm.nih.gov/sra/sdk/current/sratoolkit.current-ubuntu64.tar.gz\n",
    "    tar -xzf sratoolkit.current-ubuntu64.tar.gz\n",
    "    rm sratoolkit.current-ubuntu64.tar.gz\n",
    "fi"
   ]
  },
  {
   "cell_type": "markdown",
   "metadata": {},
   "source": [
    "## 1. Input SRA accessions\n",
    "\n",
    "In the cell below, enter the SRA run accession numbers for which you would like to obtain QC results. Multiple run accessions can be in multiple lines, or separated by a comma or space. "
   ]
  },
  {
   "cell_type": "code",
   "execution_count": 4,
   "metadata": {},
   "outputs": [],
   "source": [
    "sra_accs = \"\"\"\n",
    "    DRR042075,\n",
    "    DRR019508\n",
    "    \n",
    "\"\"\""
   ]
  },
  {
   "cell_type": "markdown",
   "metadata": {},
   "source": [
    "## 2. Fetch reads from SRA and run FastQC\n",
    "\n",
    "In this step we will parse the list of SRA run accessions, download the reads in FASTQ format from SRA and run FastQC on those reads. "
   ]
  },
  {
   "cell_type": "code",
   "execution_count": 5,
   "metadata": {},
   "outputs": [
    {
     "name": "stdout",
     "output_type": "stream",
     "text": [
      "The list of SRA accessions provided is: \n",
      "DRR042075 DRR019508\n"
     ]
    }
   ],
   "source": [
    "sra_accs = parse_sra_accs(sra_accs)\n",
    "\n",
    "print(\"The list of SRA accessions provided is: \\n{}\". format(sra_accs))"
   ]
  },
  {
   "cell_type": "code",
   "execution_count": 6,
   "metadata": {},
   "outputs": [
    {
     "name": "stdout",
     "output_type": "stream",
     "text": [
      "Fetching DRR042075 reads in FASTQ format from SRA...\n",
      "Read 10000 spots for DRR042075\n",
      "Written 10000 spots for DRR042075\n",
      "Running FASTQC on DRR042075 reads...\n",
      "Fetching DRR019508 reads in FASTQ format from SRA...\n",
      "Read 10000 spots for DRR019508\n",
      "Written 10000 spots for DRR019508\n",
      "Running FASTQC on DRR019508 reads...\n",
      "Deleting all fastq files...\n"
     ]
    },
    {
     "name": "stderr",
     "output_type": "stream",
     "text": [
      "2019-04-24T18:47:10 fastq-dump.2.9.6 warn: block-size in local file 131072 does not match requested value 32768\n",
      "2019-04-24T18:47:10 fastq-dump.2.9.6 warn: block-size in local file 131072 does not match requested value 32768\n",
      "2019-04-24T18:47:10 fastq-dump.2.9.6 warn: block-size in local file 131072 does not match requested value 32768\n",
      "2019-04-24T18:47:10 fastq-dump.2.9.6 warn: block-size in local file 131072 does not match requested value 32768\n",
      "2019-04-24T18:47:11 fastq-dump.2.9.6 warn: block-size in local file 131072 does not match requested value 32768\n",
      "2019-04-24T18:47:15 fastq-dump.2.9.6 warn: block-size in local file 131072 does not match requested value 32768\n",
      "2019-04-24T18:47:16 fastq-dump.2.9.6 warn: block-size in local file 131072 does not match requested value 32768\n"
     ]
    }
   ],
   "source": [
    "%%bash -s \"$sra_accs\"\n",
    "\n",
    "FASTQ_DUMP=\"./sratoolkit.*-ubuntu64/bin/fastq-dump\"\n",
    "FASTQC=\"./FastQC/fastqc\"\n",
    "\n",
    "for acc in $1; do\n",
    "    echo \"Fetching ${acc} reads in FASTQ format from SRA...\" ;\n",
    "    $FASTQ_DUMP -A ${acc} --gzip -N 1 -X 10000 ;\n",
    "\n",
    "    echo \"Running FASTQC on ${acc} reads...\" ;\n",
    "    $FASTQC --extract -q ${acc}.fastq.gz ;\n",
    "done\n",
    "\n",
    "echo \"Deleting all fastq files...\"\n",
    "rm *.fastq.gz "
   ]
  },
  {
   "cell_type": "markdown",
   "metadata": {},
   "source": [
    "## 3. Inspect QC data\n",
    "\n",
    "In this step, we will parse the FastQC output and generate a table with pertinent data to inspect. Click on the 'Report' link in the table to view the entire FastQC report. \n",
    "\n",
    "## 3a. [Optional] Change default parameters\n",
    "There are two parameters that you can make changes to. By default, we have picked sensibles cut-offs but feel free to change them to your liking. \n",
    "\n",
    "1. `qc_level` can be either 'FAIL' or 'WARN'. By default, it is 'FAIL', meaning a list of all metrics that have failed will be displayed in the table. If you choose 'WARN', both failed metrics and the ones with warnings will be shown in the table. \n",
    "2. `threshold` is the minimum quality score for the read that is acceptable. By default, this value is set to 27. The percentage of reads with overall quality greater than the `threshold` is shown in the table. "
   ]
  },
  {
   "cell_type": "code",
   "execution_count": 7,
   "metadata": {},
   "outputs": [],
   "source": [
    "## Edit the following values if you want to change the defaults\n",
    "\n",
    "qc_level = 'fail'  ## can be 'fail' or 'warn'\n",
    "threshold = 27 ## must be a number below 40 "
   ]
  },
  {
   "cell_type": "code",
   "execution_count": 8,
   "metadata": {},
   "outputs": [
    {
     "name": "stdout",
     "output_type": "stream",
     "text": [
      "At least 90% of the reads have quality scores over the threshold in the following accessions: DRR042075, DRR019508\n"
     ]
    },
    {
     "data": {
      "text/markdown": [
       "|SRA Acc.|No. of reads|Read length|Percent GC|Poor qual reads|Failed metrics|Pct reads over threshold qual|FastQC Report|\n",
       "|----|----|----|----|----|----|----|----|\n",
       "|DRR042075|10000|287-301|48|0|Per base sequence quality<br>Per base sequence content<br>Per sequence GC content|99.71|<a href=\"./DRR042075_fastqc.html\" target=\"_blank\">Report</a> |\n",
       "|DRR019508|10000|86-502|45|0|Per base sequence quality<br>Per sequence GC content|99.94|<a href=\"./DRR019508_fastqc.html\" target=\"_blank\">Report</a> |\n"
      ],
      "text/plain": [
       "<IPython.core.display.Markdown object>"
      ]
     },
     "metadata": {},
     "output_type": "display_data"
    }
   ],
   "source": [
    "tbl_str = generate_results_table_md(sra_accs, qc_level, threshold)\n",
    "display(Markdown(tbl_str))"
   ]
  },
  {
   "cell_type": "code",
   "execution_count": 8,
   "metadata": {},
   "outputs": [
    {
     "name": "stdout",
     "output_type": "stream",
     "text": [
      "At least 90% of the reads have quality scores over the threshold in the following accessions: DRR042075, DRR019508\n"
     ]
    }
   ],
   "source": [
    "results_tbl, passing_accs = generate_results_table(sra_accs, qc_level, threshold)"
   ]
  },
  {
   "cell_type": "code",
   "execution_count": 9,
   "metadata": {},
   "outputs": [
    {
     "data": {
      "text/plain": [
       "defaultdict(list,\n",
       "            {'SRA Acc': ['DRR042075', 'DRR019508'],\n",
       "             'Total Sequences': ['10000', '10000'],\n",
       "             'Sequence length': ['287-301', '86-502'],\n",
       "             '%GC': ['48', '45'],\n",
       "             'Sequences flagged as poor quality': ['0', '0'],\n",
       "             'Failed metrics': ['Per base sequence quality, Per base sequence content, Per sequence GC content',\n",
       "              'Per base sequence quality, Per sequence GC content'],\n",
       "             'Pct reads over threshold qual': ['99.71|', '99.94|']})"
      ]
     },
     "execution_count": 9,
     "metadata": {},
     "output_type": "execute_result"
    }
   ],
   "source": [
    "results_tbl"
   ]
  },
  {
   "cell_type": "code",
   "execution_count": null,
   "metadata": {},
   "outputs": [],
   "source": []
  },
  {
   "cell_type": "code",
   "execution_count": 10,
   "metadata": {},
   "outputs": [
    {
     "data": {
      "text/html": [
       "<div>\n",
       "<style scoped>\n",
       "    .dataframe tbody tr th:only-of-type {\n",
       "        vertical-align: middle;\n",
       "    }\n",
       "\n",
       "    .dataframe tbody tr th {\n",
       "        vertical-align: top;\n",
       "    }\n",
       "\n",
       "    .dataframe thead th {\n",
       "        text-align: right;\n",
       "    }\n",
       "</style>\n",
       "<table border=\"1\" class=\"dataframe\">\n",
       "  <thead>\n",
       "    <tr style=\"text-align: right;\">\n",
       "      <th></th>\n",
       "      <th>Total Sequences</th>\n",
       "      <th>Sequence length</th>\n",
       "      <th>%GC</th>\n",
       "      <th>Sequences flagged as poor quality</th>\n",
       "      <th>Failed metrics</th>\n",
       "      <th>Pct reads over threshold qual</th>\n",
       "    </tr>\n",
       "    <tr>\n",
       "      <th>SRA Acc</th>\n",
       "      <th></th>\n",
       "      <th></th>\n",
       "      <th></th>\n",
       "      <th></th>\n",
       "      <th></th>\n",
       "      <th></th>\n",
       "    </tr>\n",
       "  </thead>\n",
       "  <tbody>\n",
       "    <tr>\n",
       "      <th>DRR042075</th>\n",
       "      <td>10000</td>\n",
       "      <td>287-301</td>\n",
       "      <td>48</td>\n",
       "      <td>0</td>\n",
       "      <td>Per base sequence quality, Per base sequence c...</td>\n",
       "      <td>99.71|</td>\n",
       "    </tr>\n",
       "    <tr>\n",
       "      <th>DRR019508</th>\n",
       "      <td>10000</td>\n",
       "      <td>86-502</td>\n",
       "      <td>45</td>\n",
       "      <td>0</td>\n",
       "      <td>Per base sequence quality, Per sequence GC con...</td>\n",
       "      <td>99.94|</td>\n",
       "    </tr>\n",
       "  </tbody>\n",
       "</table>\n",
       "</div>"
      ],
      "text/plain": [
       "          Total Sequences Sequence length %GC  \\\n",
       "SRA Acc                                         \n",
       "DRR042075           10000         287-301  48   \n",
       "DRR019508           10000          86-502  45   \n",
       "\n",
       "          Sequences flagged as poor quality  \\\n",
       "SRA Acc                                       \n",
       "DRR042075                                 0   \n",
       "DRR019508                                 0   \n",
       "\n",
       "                                              Failed metrics  \\\n",
       "SRA Acc                                                        \n",
       "DRR042075  Per base sequence quality, Per base sequence c...   \n",
       "DRR019508  Per base sequence quality, Per sequence GC con...   \n",
       "\n",
       "          Pct reads over threshold qual  \n",
       "SRA Acc                                  \n",
       "DRR042075                        99.71|  \n",
       "DRR019508                        99.94|  "
      ]
     },
     "execution_count": 10,
     "metadata": {},
     "output_type": "execute_result"
    }
   ],
   "source": [
    "import pandas as pd\n",
    "d = pd.DataFrame.from_dict(results_tbl).set_index('SRA Acc', drop=True)\n",
    "d"
   ]
  },
  {
   "cell_type": "code",
   "execution_count": null,
   "metadata": {},
   "outputs": [],
   "source": []
  }
 ],
 "metadata": {
  "kernelspec": {
   "display_name": "Python 3",
   "language": "python",
   "name": "python3"
  },
  "language_info": {
   "codemirror_mode": {
    "name": "ipython",
    "version": 3
   },
   "file_extension": ".py",
   "mimetype": "text/x-python",
   "name": "python",
   "nbconvert_exporter": "python",
   "pygments_lexer": "ipython3",
   "version": "3.6.7"
  }
 },
 "nbformat": 4,
 "nbformat_minor": 2
}

{
 "cells": [
  {
   "cell_type": "markdown",
   "metadata": {},
   "source": [
    "# QC of FASTQ runs\n",
    "\n",
    "This Jupyter notebook allows you to perform some basic quality control analysis of reads for a given SRA accession. Quality checks are computed by the program [FastQC](https://www.bioinformatics.babraham.ac.uk/projects/fastqc/) and the output data is parsed by python functions in this notebook. "
   ]
  },
  {
   "cell_type": "markdown",
   "metadata": {},
   "source": [
    "## 0. Setting up"
   ]
  },
  {
   "cell_type": "code",
   "execution_count": 1,
   "metadata": {},
   "outputs": [],
   "source": [
    "from qc_functions import *\n",
    "from IPython.display import display, Markdown\n",
    "\n",
    "## need to check if FastQC and fastq-dump are available\n",
    "## download binaries if not present"
   ]
  },
  {
   "cell_type": "markdown",
   "metadata": {},
   "source": [
    "## 1. Input SRA accessions\n",
    "\n",
    "In the cell below, enter the SRA run accession numbers for which you would like to obtain QC results. Multiple run accessions should be separated by a space. "
   ]
  },
  {
   "cell_type": "code",
   "execution_count": 2,
   "metadata": {},
   "outputs": [],
   "source": [
    "sra_accs = \"DRR042075   DRR019508\""
   ]
  },
  {
   "cell_type": "markdown",
   "metadata": {},
   "source": [
    "## 2. Fetch reads from SRA and run FastQC\n",
    "\n",
    "In this step we will parse the list of SRA run accessions, download the reads in FASTQ format from SRA and run FastQC on those reads. "
   ]
  },
  {
   "cell_type": "code",
   "execution_count": 3,
   "metadata": {},
   "outputs": [
    {
     "name": "stdout",
     "output_type": "stream",
     "text": [
      "DRR042075 DRR019508\n"
     ]
    }
   ],
   "source": [
    "sra_accs = parse_sra_accs(sra_accs)\n",
    "print(sra_accs)"
   ]
  },
  {
   "cell_type": "code",
   "execution_count": 4,
   "metadata": {},
   "outputs": [
    {
     "name": "stdout",
     "output_type": "stream",
     "text": [
      "Fetching DRR042075 reads in FASTQ format from SRA...\n",
      "Read 10000 spots for DRR042075\n",
      "Written 10000 spots for DRR042075\n",
      "Running FASTQC on DRR042075 reads...\n",
      "Fetching DRR019508 reads in FASTQ format from SRA...\n",
      "Read 10000 spots for DRR019508\n",
      "Written 10000 spots for DRR019508\n",
      "Running FASTQC on DRR019508 reads...\n"
     ]
    }
   ],
   "source": [
    "%%bash -s \"$sra_accs\"\n",
    "\n",
    "FASTQ_DUMP=\"/usr/bin/fastq-dump\"\n",
    "FASTQC=\"/home/vkkodali/FastQC/fastqc\"\n",
    "\n",
    "for acc in $1; do\n",
    "    echo \"Fetching ${acc} reads in FASTQ format from SRA...\" ;\n",
    "    $FASTQ_DUMP -A ${acc} --gzip -N 1 -X 10000 ;\n",
    "\n",
    "    echo \"Running FASTQC on ${acc} reads...\" ;\n",
    "    $FASTQC --extract -q ${acc}.fastq.gz ;\n",
    "done\n",
    "\n",
    "## delete fastq.gz files?"
   ]
  },
  {
   "cell_type": "markdown",
   "metadata": {},
   "source": [
    "## 3. Inspect QC data\n",
    "\n",
    "In this step, we will parse the FastQC output and generate a table with pertinent data to inspect. Click on the 'Report' link in the table to view the entire FastQC report. "
   ]
  },
  {
   "cell_type": "markdown",
   "metadata": {},
   "source": [
    "## 3a. [Optional] Change default parameters\n",
    "There are two parameters that you can make changes to. By default, we have picked sensibles cut-offs but feel free to change them to your liking. \n",
    "\n",
    "1. `qc_level` can be either 'FAIL' or 'WARN'. By default, it is 'FAIL', meaning a list of all metrics that have failed will be displayed in the table. If you choose 'WARN', both failed metrics and the ones with warnings will be shown in the table. \n",
    "2. `threshold` is the minimum quality score for the read that is acceptable. By default, this value is set to 27. The percentage of reads with overall quality greater than the `threshold` is shown in the table. "
   ]
  },
  {
   "cell_type": "code",
   "execution_count": 5,
   "metadata": {},
   "outputs": [],
   "source": [
    "## Edit the following values if you want to change the defaults\n",
    "\n",
    "qc_level = 'fail'  ## can be 'fail' or 'warn'\n",
    "threshold = 27 ## must be a number below 40 "
   ]
  },
  {
   "cell_type": "code",
   "execution_count": 6,
   "metadata": {},
   "outputs": [
    {
     "data": {
      "text/markdown": [
       "|SRA Acc.|No. of reads|Read length|Percent GC|Poor qual reads|Failed metrics|Percent reads over threshold quality|FastQC Report|\n",
       "|----|----|----|----|----|----|----|----|\n",
       "|DRR042075|10000|287-301|48|0|Per base sequence quality<br>Per base sequence content<br>Per sequence GC content|99.71|<a href=\"./DRR042075_fastqc.html\" target=\"_blank\">Report</a> |\n",
       "|DRR019508|10000|86-502|45|0|Per base sequence quality<br>Per sequence GC content|99.94|<a href=\"./DRR019508_fastqc.html\" target=\"_blank\">Report</a> |\n"
      ],
      "text/plain": [
       "<IPython.core.display.Markdown object>"
      ]
     },
     "metadata": {},
     "output_type": "display_data"
    }
   ],
   "source": [
    "tbl_str = generate_results_table(sra_accs, qc_level, threshold)\n",
    "display(Markdown(tbl_str))"
   ]
  },
  {
   "cell_type": "code",
   "execution_count": null,
   "metadata": {},
   "outputs": [],
   "source": []
  }
 ],
 "metadata": {
  "kernelspec": {
   "display_name": "Python 3",
   "language": "python",
   "name": "python3"
  },
  "language_info": {
   "codemirror_mode": {
    "name": "ipython",
    "version": 3
   },
   "file_extension": ".py",
   "mimetype": "text/x-python",
   "name": "python",
   "nbconvert_exporter": "python",
   "pygments_lexer": "ipython3",
   "version": "3.6.7"
  }
 },
 "nbformat": 4,
 "nbformat_minor": 2
}

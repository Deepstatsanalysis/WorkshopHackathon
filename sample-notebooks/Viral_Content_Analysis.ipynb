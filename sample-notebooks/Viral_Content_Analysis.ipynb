{
  "nbformat": 4,
  "nbformat_minor": 0,
  "metadata": {
    "colab": {
      "name": "Viral Content Analysis.ipynb",
      "version": "0.3.2",
      "provenance": [],
      "collapsed_sections": [],
      "toc_visible": true
    },
    "language_info": {
      "codemirror_mode": {
        "name": "ipython",
        "version": 3
      },
      "file_extension": ".py",
      "mimetype": "text/x-python",
      "name": "python",
      "nbconvert_exporter": "python",
      "pygments_lexer": "ipython3",
      "version": "3.7.0"
    },
    "kernelspec": {
      "display_name": "Python 3",
      "language": "python",
      "name": "python3"
    }
  },
  "cells": [
    {
      "metadata": {
        "id": "ltloS7DowjXP",
        "colab_type": "text"
      },
      "cell_type": "markdown",
      "source": [
        "# Introduction\n",
        "\n",
        "**What is this?** - This notebook will classify the viral content of an NGS data-set\n",
        "\n",
        "**Who is it for?** - Everyone!\n",
        "\n",
        "**What do I need to use it?** - Absolutely nothing! but some data, and internet"
      ]
    },
    {
      "metadata": {
        "id": "Ktl4pgR_wjXR",
        "colab_type": "code",
        "outputId": "86f6a7a4-c84a-4569-c1c0-e37935d40d4f",
        "colab": {
          "base_uri": "https://localhost:8080/",
          "height": 118
        }
      },
      "cell_type": "code",
      "source": [
        "from time import sleep\n",
        "from urllib.error import HTTPError\n",
        "try:\n",
        "  from Bio import Entrez\n",
        "  from Bio import SeqIO\n",
        "  from Bio.Blast import NCBIWWW\n",
        "  from Bio.Blast import NCBIXML\n",
        "except:\n",
        "  !pip install biopython\n",
        "  from Bio import Entrez\n",
        "  from Bio import SeqIO\n",
        "  from Bio.Blast import NCBIWWW\n",
        "  from Bio.Blast import NCBIXML\n",
        "try:\n",
        "  import pandas as pd\n",
        "except:\n",
        "  !pip install pandas\n",
        "  import pandas as pd"
      ],
      "execution_count": 0,
      "outputs": [
        {
          "output_type": "stream",
          "text": [
            "Collecting biopython\n",
            "\u001b[?25l  Downloading https://files.pythonhosted.org/packages/28/15/8ac646ff24cfa2588b4d5e5ea51e8d13f3d35806bd9498fbf40ef79026fd/biopython-1.73-cp36-cp36m-manylinux1_x86_64.whl (2.2MB)\n",
            "\u001b[K    100% |████████████████████████████████| 2.2MB 12.4MB/s \n",
            "\u001b[?25hRequirement already satisfied: numpy in /usr/local/lib/python3.6/dist-packages (from biopython) (1.16.2)\n",
            "Installing collected packages: biopython\n",
            "Successfully installed biopython-1.73\n"
          ],
          "name": "stdout"
        }
      ]
    },
    {
      "metadata": {
        "id": "GZHgv3dZ23ox",
        "colab_type": "code",
        "colab": {}
      },
      "cell_type": "code",
      "source": [
        "## install fastqc \n"
      ],
      "execution_count": 0,
      "outputs": []
    },
    {
      "metadata": {
        "id": "tFa97UazwjXV",
        "colab_type": "text"
      },
      "cell_type": "markdown",
      "source": [
        "# 1. Getting started\n",
        "\n",
        "## Dependencies\n",
        "\n",
        "All the necessary libraries are imported in the code cell above this cell. Libraries not part of the standard library a listed below:\n",
        "1. BioPython\n",
        "2. Pandas\n",
        "\n",
        "## Parameters\n",
        "\n",
        "You can adjust the way this pipeline works by changing the value assigned to values in the code cell below. A brief description of each variable is included here:\n",
        "* **var** - explanation\n"
      ]
    },
    {
      "metadata": {
        "id": "3bsCGpVcwjXW",
        "colab_type": "code",
        "colab": {}
      },
      "cell_type": "code",
      "source": [
        ""
      ],
      "execution_count": 0,
      "outputs": []
    },
    {
      "metadata": {
        "id": "qU-VM_OjwjXa",
        "colab_type": "text"
      },
      "cell_type": "markdown",
      "source": [
        "# 2. QA/QC\n",
        "\n",
        "Starting with input reads in FASTQ format, sample an `n %` of reads and run `fastqc` on that set of reads. Report the following metrics: \n",
        "1. Average Quality Score\n",
        "2. Average read length\n",
        "3. Total number of reads\n"
      ]
    },
    {
      "metadata": {
        "id": "ZS6rFrjcwjXb",
        "colab_type": "code",
        "colab": {}
      },
      "cell_type": "code",
      "source": [
        ""
      ],
      "execution_count": 0,
      "outputs": []
    },
    {
      "metadata": {
        "id": "ZDbFwU18wjXe",
        "colab_type": "text"
      },
      "cell_type": "markdown",
      "source": [
        "# 3. K-mer analysis\n",
        "\n",
        "More words "
      ]
    },
    {
      "metadata": {
        "id": "-S25wz0pwjXf",
        "colab_type": "code",
        "colab": {}
      },
      "cell_type": "code",
      "source": [
        ""
      ],
      "execution_count": 0,
      "outputs": []
    },
    {
      "metadata": {
        "id": "4VZEg-7PwjXh",
        "colab_type": "text"
      },
      "cell_type": "markdown",
      "source": [
        "# 4. Contig Assembly\n",
        "\n",
        "\n",
        "## Estimate run-time\n",
        "\n",
        "How that's done.\n",
        "\n",
        "How accurate is it?\n",
        "\n",
        "## Assembly\n",
        "\n",
        "How that's done"
      ]
    },
    {
      "metadata": {
        "id": "UFrKwhIGwjXi",
        "colab_type": "code",
        "colab": {}
      },
      "cell_type": "code",
      "source": [
        "##############################\n",
        "#                            #\n",
        "# Estimate Assembly Run-Time #\n",
        "#                            #\n",
        "##############################\n",
        "\n"
      ],
      "execution_count": 0,
      "outputs": []
    },
    {
      "metadata": {
        "id": "ArbyBHVowjXl",
        "colab_type": "code",
        "colab": {}
      },
      "cell_type": "code",
      "source": [
        "##############################\n",
        "#                            #\n",
        "#       Assmble Contigs      #\n",
        "#                            #\n",
        "##############################\n",
        "\n"
      ],
      "execution_count": 0,
      "outputs": []
    },
    {
      "metadata": {
        "id": "njK8MYt0wjXo",
        "colab_type": "text"
      },
      "cell_type": "markdown",
      "source": [
        "# 5. BLASTn vs. Viral RefSeq\n",
        "\n",
        "Who? What? Where? When? Why?\n",
        "\n",
        "Hello"
      ]
    },
    {
      "metadata": {
        "id": "vS3rOuECwjXq",
        "colab_type": "code",
        "colab": {}
      },
      "cell_type": "code",
      "source": [
        "import multiprocessing, subprocess, shlex\n",
        "import pandas as pd\n",
        "\n",
        "# Input on jupyter-blast-1\n",
        "input = \"/blast/queries/contigs/SRR1491895.contigs.fasta\"\n",
        "\n",
        "# For BLASTDB name , see https://confluence.ncbi.nlm.nih.gov/display/~camacho/BLAST+STRIDES+Databases \n",
        "blastdb = \"/blast/db/ref_viroids_rep_genomes_v5\"\n",
        "\n",
        "num_threads = multiprocessing.cpu_count()\n",
        "\n",
        "# Assume BLAST is installed (otherwise, run the command below)\n",
        "\n",
        "# Assume BLASTDBs are installed, otherwise run 'update_blastdb.pl --decompress nt ...'\n",
        "blast_archive = \"blastn-nt-results.asn\"\n",
        "blast_tab_output = \"blastn-nt-results.tab\"\n",
        "\n",
        "cmd = \"/usr/bin/blastn -db \" + blastdb +  \" -query \" + input\n",
        "cmd += \" -outfmt 11 -out \" + blast_archive + \" -num_threads \" + str(num_threads)\n",
        "r = subprocess.run(shlex.split(cmd), check=True)\n",
        "\n",
        "# Format results\n",
        "cmd = \"/usr/bin/blast_formatter -archive \" + blast_archive + \" -outfmt 7 \"\n",
        "cmd += \"-out \" + blast_tab_output \n",
        "r = subprocess.run(shlex.split(cmd), check=True)\n",
        "\n",
        "#results = pd.read_csv(blast_tab_output, '\\t', header=0)\n",
        "#results.head(n=50)"
      ],
      "execution_count": 0,
      "outputs": []
    },
    {
      "metadata": {
        "id": "-QWFP-DMwjXs",
        "colab_type": "code",
        "colab": {
          "base_uri": "https://localhost:8080/",
          "height": 357
        },
        "outputId": "0ab87acc-d937-40c2-9904-8a85f2fc5683"
      },
      "cell_type": "code",
      "source": [
        "! pwd\n",
        "! ls -l\n",
        "! head blastn-nt-results.tab\n"
      ],
      "execution_count": 19,
      "outputs": [
        {
          "output_type": "stream",
          "text": [
            "/home/camacho\n",
            "total 44764\n",
            "-rw-r--r-- 1 camacho camacho 41000116 Apr 23 19:29 blastn-nt-results.asn\n",
            "-rw-r--r-- 1 camacho camacho  4812747 Apr 23 19:29 blastn-nt-results.tab\n",
            "-rwxr-xr-x 1 camacho camacho      397 Apr 23 19:02 get-blastdbs.sh\n",
            "-rwxr-xr-x 1 camacho camacho      336 Apr 23 19:02 get-queries.sh\n",
            "-rw-r--r-- 1 camacho camacho       71 Apr 23 19:02 setenv.sh\n",
            "-rwxr-xr-x 1 camacho camacho      481 Apr 23 19:02 setup-blast.sh\n",
            "-rw-r--r-- 1 camacho camacho      386 Apr 23 19:02 setup-docker.sh\n",
            "-rwxr-xr-x 1 camacho camacho      339 Apr 23 19:02 setup-jupyter-on-gce.sh\n",
            "# BLASTN 2.9.0+\n",
            "# Query: Contig_11065_7.86977\n",
            "# Database: /blast/db/ref_viroids_rep_genomes_v5\n",
            "# 0 hits found\n",
            "# BLASTN 2.9.0+\n",
            "# Query: Contig_9117_9.94493\n",
            "# Database: /blast/db/ref_viroids_rep_genomes_v5\n",
            "# 0 hits found\n",
            "# BLASTN 2.9.0+\n",
            "# Query: Contig_40167_4.81218\n"
          ],
          "name": "stdout"
        }
      ]
    },
    {
      "metadata": {
        "id": "w9h7OEJCwjXw",
        "colab_type": "text"
      },
      "cell_type": "markdown",
      "source": [
        "# 6. BLASTn vs. Viral Genbank\n",
        "\n",
        "Who? What? Where? When? Why?"
      ]
    },
    {
      "metadata": {
        "id": "pS0E4f34wjXx",
        "colab_type": "code",
        "colab": {}
      },
      "cell_type": "code",
      "source": [
        "results2 = pd.DataFrame()\n",
        "for rec in SeqIO.parse(contigs, 'fasta'):\n",
        "    if rec.name in bad_rs_hit.qacc:\n",
        "        \n",
        "        # Submitting a ton of queries will cause NCBI to return an error and ask you to wait a bit before trying again\n",
        "        # The try-except structure automates waiting for the requested amount of time before trying again\n",
        "        \n",
        "        try:\n",
        "            handle = NCBIWWW.qblast(program = \"blastn\", \n",
        "                                    database = \"nt\", \n",
        "                                    sequence = rec, \n",
        "                                    entrez_query = \"viruses[orgn]\", \n",
        "                                    format_type = \"text\",\n",
        "                                    expect = 0.001,\n",
        "                                    alignments = 10)\n",
        "        except HTTPError as err:\n",
        "            if err.code == 429:\n",
        "                sleep(int(err.headers['Retry-After']))\n",
        "                continue\n",
        "        \n",
        "        one_result = pd.read_csv(handle)\n",
        "        results2 = pd.concat([results, one_result])\n",
        "    \n",
        "# good_nt_hit = results[results.value >= cutoff]\n",
        "# bad_nt_hit = results[results.value < cutoff]"
      ],
      "execution_count": 0,
      "outputs": []
    },
    {
      "metadata": {
        "id": "dJzOI3bUwjXz",
        "colab_type": "text"
      },
      "cell_type": "markdown",
      "source": [
        "# 7. rpstBLASTn vs. CDD\n",
        "\n",
        "Who? What? Where? When? Why?"
      ]
    },
    {
      "metadata": {
        "id": "EcxbvRe2wjX0",
        "colab_type": "code",
        "colab": {}
      },
      "cell_type": "code",
      "source": [
        ""
      ],
      "execution_count": 0,
      "outputs": []
    },
    {
      "metadata": {
        "id": "UiXx3EmIwjX2",
        "colab_type": "text"
      },
      "cell_type": "markdown",
      "source": [
        "# 8. Results Summaries\n",
        "\n",
        "Pretty Pictures!"
      ]
    },
    {
      "metadata": {
        "id": "BXDDP3b7wjX4",
        "colab_type": "code",
        "colab": {}
      },
      "cell_type": "code",
      "source": [
        ""
      ],
      "execution_count": 0,
      "outputs": []
    },
    {
      "metadata": {
        "id": "KqVY2ntpwjX6",
        "colab_type": "code",
        "colab": {}
      },
      "cell_type": "code",
      "source": [
        ""
      ],
      "execution_count": 0,
      "outputs": []
    }
  ]
}
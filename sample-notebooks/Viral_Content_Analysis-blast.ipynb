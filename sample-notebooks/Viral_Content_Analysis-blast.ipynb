{
 "cells": [
  {
   "cell_type": "markdown",
   "metadata": {
    "colab_type": "text",
    "id": "ltloS7DowjXP"
   },
   "source": [
    "# Introduction\n",
    "\n",
    "**What is this?** - This notebook will classify the viral content of an NGS data-set\n",
    "\n",
    "**Who is it for?** - Everyone!\n",
    "\n",
    "**What do I need to use it?** - Absolutely nothing! but some data, and internet"
   ]
  },
  {
   "cell_type": "code",
   "execution_count": 0,
   "metadata": {
    "colab": {
     "base_uri": "https://localhost:8080/",
     "height": 118
    },
    "colab_type": "code",
    "id": "Ktl4pgR_wjXR",
    "outputId": "86f6a7a4-c84a-4569-c1c0-e37935d40d4f"
   },
   "outputs": [
    {
     "name": "stdout",
     "output_type": "stream",
     "text": [
      "Collecting biopython\n",
      "\u001b[?25l  Downloading https://files.pythonhosted.org/packages/28/15/8ac646ff24cfa2588b4d5e5ea51e8d13f3d35806bd9498fbf40ef79026fd/biopython-1.73-cp36-cp36m-manylinux1_x86_64.whl (2.2MB)\n",
      "\u001b[K    100% |████████████████████████████████| 2.2MB 12.4MB/s \n",
      "\u001b[?25hRequirement already satisfied: numpy in /usr/local/lib/python3.6/dist-packages (from biopython) (1.16.2)\n",
      "Installing collected packages: biopython\n",
      "Successfully installed biopython-1.73\n"
     ]
    }
   ],
   "source": [
    "from time import sleep\n",
    "from urllib.error import HTTPError\n",
    "try:\n",
    "  from Bio import Entrez\n",
    "  from Bio import SeqIO\n",
    "  from Bio.Blast import NCBIWWW\n",
    "  from Bio.Blast import NCBIXML\n",
    "except:\n",
    "  !pip install biopython\n",
    "  from Bio import Entrez\n",
    "  from Bio import SeqIO\n",
    "  from Bio.Blast import NCBIWWW\n",
    "  from Bio.Blast import NCBIXML\n",
    "try:\n",
    "  import pandas as pd\n",
    "except:\n",
    "  !pip install pandas\n",
    "  import pandas as pd"
   ]
  },
  {
   "cell_type": "code",
   "execution_count": 0,
   "metadata": {
    "colab": {},
    "colab_type": "code",
    "id": "GZHgv3dZ23ox"
   },
   "outputs": [],
   "source": [
    "## install fastqc \n"
   ]
  },
  {
   "cell_type": "markdown",
   "metadata": {
    "colab_type": "text",
    "id": "tFa97UazwjXV"
   },
   "source": [
    "# 1. Getting started\n",
    "\n",
    "## Dependencies\n",
    "\n",
    "All the necessary libraries are imported in the code cell above this cell. Libraries not part of the standard library a listed below:\n",
    "1. BioPython\n",
    "2. Pandas\n",
    "\n",
    "## Parameters\n",
    "\n",
    "You can adjust the way this pipeline works by changing the value assigned to values in the code cell below. A brief description of each variable is included here:\n",
    "* **var** - explanation\n"
   ]
  },
  {
   "cell_type": "code",
   "execution_count": 0,
   "metadata": {
    "colab": {},
    "colab_type": "code",
    "id": "3bsCGpVcwjXW"
   },
   "outputs": [],
   "source": []
  },
  {
   "cell_type": "markdown",
   "metadata": {
    "colab_type": "text",
    "id": "qU-VM_OjwjXa"
   },
   "source": [
    "# 2. QA/QC\n",
    "\n",
    "Starting with input reads in FASTQ format, sample an `n %` of reads and run `fastqc` on that set of reads. Report the following metrics: \n",
    "1. Average Quality Score\n",
    "2. Average read length\n",
    "3. Total number of reads\n"
   ]
  },
  {
   "cell_type": "code",
   "execution_count": 0,
   "metadata": {
    "colab": {},
    "colab_type": "code",
    "id": "ZS6rFrjcwjXb"
   },
   "outputs": [],
   "source": []
  },
  {
   "cell_type": "markdown",
   "metadata": {
    "colab_type": "text",
    "id": "ZDbFwU18wjXe"
   },
   "source": [
    "# 3. K-mer analysis\n",
    "\n",
    "More words "
   ]
  },
  {
   "cell_type": "code",
   "execution_count": 0,
   "metadata": {
    "colab": {},
    "colab_type": "code",
    "id": "-S25wz0pwjXf"
   },
   "outputs": [],
   "source": []
  },
  {
   "cell_type": "markdown",
   "metadata": {
    "colab_type": "text",
    "id": "4VZEg-7PwjXh"
   },
   "source": [
    "# 4. Contig Assembly\n",
    "\n",
    "\n",
    "## Estimate run-time\n",
    "\n",
    "How that's done.\n",
    "\n",
    "How accurate is it?\n",
    "\n",
    "## Assembly\n",
    "\n",
    "How that's done"
   ]
  },
  {
   "cell_type": "code",
   "execution_count": 0,
   "metadata": {
    "colab": {},
    "colab_type": "code",
    "id": "UFrKwhIGwjXi"
   },
   "outputs": [],
   "source": [
    "##############################\n",
    "#                            #\n",
    "# Estimate Assembly Run-Time #\n",
    "#                            #\n",
    "##############################\n",
    "\n"
   ]
  },
  {
   "cell_type": "code",
   "execution_count": 0,
   "metadata": {
    "colab": {},
    "colab_type": "code",
    "id": "ArbyBHVowjXl"
   },
   "outputs": [],
   "source": [
    "##############################\n",
    "#                            #\n",
    "#       Assmble Contigs      #\n",
    "#                            #\n",
    "##############################\n",
    "\n"
   ]
  },
  {
   "cell_type": "markdown",
   "metadata": {
    "colab_type": "text",
    "id": "njK8MYt0wjXo"
   },
   "source": [
    "# 5. BLASTn vs. Viral RefSeq\n",
    "\n",
    "Who? What? Where? When? Why?\n",
    "\n",
    "Hello"
   ]
  },
  {
   "cell_type": "code",
   "execution_count": 31,
   "metadata": {},
   "outputs": [
    {
     "name": "stdout",
     "output_type": "stream",
     "text": [
      "/home/jupyter-jupytermaster/WorkshopHackathon/sample-notebooks\r\n"
     ]
    }
   ],
   "source": [
    "!pwd"
   ]
  },
  {
   "cell_type": "code",
   "execution_count": 32,
   "metadata": {
    "colab": {},
    "colab_type": "code",
    "id": "vS3rOuECwjXq"
   },
   "outputs": [],
   "source": [
    "import multiprocessing, subprocess, shlex\n",
    "import pandas as pd\n",
    "\n",
    "# Create output folder \n",
    "!mkdir -p /tmp/output \n",
    "\n",
    "# Input on jupyter-blast-1\n",
    "input = \"/srv/data/shared_data/blast/queries/contigs/SRR1491895.contigs.fasta\"\n",
    "\n",
    "# For BLASTDB name , see https://confluence.ncbi.nlm.nih.gov/display/~camacho/BLAST+STRIDES+Databases \n",
    "blastdb = \"/srv/data/shared_data/blast/db/ref_viroids_rep_genomes_v5\"\n",
    "\n",
    "num_threads = multiprocessing.cpu_count()\n",
    "\n",
    "# Assume BLAST is installed (otherwise, run the command below)\n",
    "\n",
    "# Assume BLASTDBs are installed, otherwise run 'update_blastdb.pl --decompress nt ...'\n",
    "blast_archive = \"/tmp/output/blastn-nt-results.asn\"\n",
    "blast_tab_output = \"/tmp/output/blastn-nt-results.tab\"\n",
    "\n",
    "cmd = \"/usr/bin/blastn -db \" + blastdb +  \" -query \" + input\n",
    "cmd += \" -outfmt 11 -out \" + blast_archive + \" -num_threads \" + str(num_threads)\n",
    "\n",
    "r = subprocess.run(shlex.split(cmd), check=True)\n",
    "\n",
    "# Format results\n",
    "cmd = \"/usr/bin/blast_formatter -archive \" + blast_archive + \" -outfmt 7 \"\n",
    "cmd += \"-out \" + blast_tab_output \n",
    "\n",
    "r = subprocess.run(shlex.split(cmd), check=True)\n",
    "\n",
    "#results = pd.read_csv(blast_tab_output, '\\t', header=0)\n",
    "#results.head(n=50)"
   ]
  },
  {
   "cell_type": "code",
   "execution_count": 29,
   "metadata": {
    "colab": {
     "base_uri": "https://localhost:8080/",
     "height": 357
    },
    "colab_type": "code",
    "id": "-QWFP-DMwjXs",
    "outputId": "0ab87acc-d937-40c2-9904-8a85f2fc5683"
   },
   "outputs": [
    {
     "name": "stdout",
     "output_type": "stream",
     "text": [
      "total 45644\n",
      "-rw-r--r-- 1 jupyter-jupytermaster jupyter-jupytermaster 41000314 Apr 24 16:26 blastn-nt-results.asn\n",
      "-rw-r--r-- 1 jupyter-jupytermaster jupyter-jupytermaster  5735067 Apr 24 16:26 blastn-nt-results.tab\n",
      "head: cannot open '/tmp/output/blastn-nt-results.tab' for reading: No such file or directory\n"
     ]
    }
   ],
   "source": [
    "!ls -l /tmp/output\n",
    "!head /tmp/output/blastn-nt-results.tab\n"
   ]
  },
  {
   "cell_type": "markdown",
   "metadata": {
    "colab_type": "text",
    "id": "w9h7OEJCwjXw"
   },
   "source": [
    "# 6. BLASTn vs. Viral Genbank\n",
    "\n",
    "Who? What? Where? When? Why?"
   ]
  },
  {
   "cell_type": "code",
   "execution_count": 0,
   "metadata": {
    "colab": {},
    "colab_type": "code",
    "id": "pS0E4f34wjXx"
   },
   "outputs": [],
   "source": [
    "results2 = pd.DataFrame()\n",
    "for rec in SeqIO.parse(contigs, 'fasta'):\n",
    "    if rec.name in bad_rs_hit.qacc:\n",
    "        \n",
    "        # Submitting a ton of queries will cause NCBI to return an error and ask you to wait a bit before trying again\n",
    "        # The try-except structure automates waiting for the requested amount of time before trying again\n",
    "        \n",
    "        try:\n",
    "            handle = NCBIWWW.qblast(program = \"blastn\", \n",
    "                                    database = \"nt\", \n",
    "                                    sequence = rec, \n",
    "                                    entrez_query = \"viruses[orgn]\", \n",
    "                                    format_type = \"text\",\n",
    "                                    expect = 0.001,\n",
    "                                    alignments = 10)\n",
    "        except HTTPError as err:\n",
    "            if err.code == 429:\n",
    "                sleep(int(err.headers['Retry-After']))\n",
    "                continue\n",
    "        \n",
    "        one_result = pd.read_csv(handle)\n",
    "        results2 = pd.concat([results, one_result])\n",
    "    \n",
    "# good_nt_hit = results[results.value >= cutoff]\n",
    "# bad_nt_hit = results[results.value < cutoff]"
   ]
  },
  {
   "cell_type": "markdown",
   "metadata": {
    "colab_type": "text",
    "id": "dJzOI3bUwjXz"
   },
   "source": [
    "# 7. rpstBLASTn vs. CDD\n",
    "\n",
    "Who? What? Where? When? Why?"
   ]
  },
  {
   "cell_type": "code",
   "execution_count": 0,
   "metadata": {
    "colab": {},
    "colab_type": "code",
    "id": "EcxbvRe2wjX0"
   },
   "outputs": [],
   "source": []
  },
  {
   "cell_type": "markdown",
   "metadata": {
    "colab_type": "text",
    "id": "UiXx3EmIwjX2"
   },
   "source": [
    "# 8. Results Summaries\n",
    "\n",
    "Pretty Pictures!"
   ]
  },
  {
   "cell_type": "code",
   "execution_count": 0,
   "metadata": {
    "colab": {},
    "colab_type": "code",
    "id": "BXDDP3b7wjX4"
   },
   "outputs": [],
   "source": []
  },
  {
   "cell_type": "code",
   "execution_count": 0,
   "metadata": {
    "colab": {},
    "colab_type": "code",
    "id": "KqVY2ntpwjX6"
   },
   "outputs": [],
   "source": []
  }
 ],
 "metadata": {
  "colab": {
   "collapsed_sections": [],
   "name": "Viral Content Analysis.ipynb",
   "provenance": [],
   "toc_visible": true,
   "version": "0.3.2"
  },
  "kernelspec": {
   "display_name": "Python 3",
   "language": "python",
   "name": "python3"
  },
  "language_info": {
   "codemirror_mode": {
    "name": "ipython",
    "version": 3
   },
   "file_extension": ".py",
   "mimetype": "text/x-python",
   "name": "python",
   "nbconvert_exporter": "python",
   "pygments_lexer": "ipython3",
   "version": "3.6.7"
  }
 },
 "nbformat": 4,
 "nbformat_minor": 1
}
